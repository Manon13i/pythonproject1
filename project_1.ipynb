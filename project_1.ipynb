{
  "nbformat": 4,
  "nbformat_minor": 0,
  "metadata": {
    "colab": {
      "provenance": []
    },
    "kernelspec": {
      "name": "python3",
      "display_name": "Python 3"
    },
    "language_info": {
      "name": "python"
    }
  },
  "cells": [
    {
      "cell_type": "code",
      "execution_count": 17,
      "metadata": {
        "id": "suMXyFNI_oa0",
        "colab": {
          "base_uri": "https://localhost:8080/"
        },
        "outputId": "48f893f2-ba75-4045-fcc7-8440d14d62d7"
      },
      "outputs": [
        {
          "output_type": "stream",
          "name": "stdout",
          "text": [
            ":GREEN\n",
            "go\n"
          ]
        }
      ],
      "source": [
        "traffic_light=input(\"Enter any  colour(red,orange,yellow):\")\n",
        "traffic_light=traffic_light.lower()\n",
        "if traffic_light==\"green\":\n",
        "  print (\"the vehicle can move further from now on\")\n",
        "elif traffic_light==\"yellow\":\n",
        "  print(\"get ready to drive\")\n",
        "elif traffic_light==\"red\":\n",
        "  print(\"stop and wait until \")\n",
        "else :\n",
        "   print(\"red,orange amd yellow are the three colours of  traffic light\")\n",
        "\n"
      ]
    }
  ]
}